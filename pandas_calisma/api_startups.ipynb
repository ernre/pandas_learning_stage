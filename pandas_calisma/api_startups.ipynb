{
 "cells": [
  {
   "cell_type": "code",
   "execution_count": 2,
   "id": "d3ec4107-e904-43f1-a3cc-a0e030b64baf",
   "metadata": {},
   "outputs": [
    {
     "name": "stdout",
     "output_type": "stream",
     "text": [
      "{'symbol': 'BTCUSDT', 'priceChange': '-274.49000000', 'priceChangePercent': '-0.286', 'weightedAvgPrice': '95775.62567315', 'prevClosePrice': '95894.49000000', 'lastPrice': '95620.01000000', 'lastQty': '0.00012000', 'bidPrice': '95620.00000000', 'bidQty': '1.06930000', 'askPrice': '95620.01000000', 'askQty': '8.11190000', 'openPrice': '95894.50000000', 'highPrice': '97356.69000000', 'lowPrice': '94395.00000000', 'volume': '34806.33660000', 'quoteVolume': '3333598665.25538750', 'openTime': 1733124722965, 'closeTime': 1733211122965, 'firstId': 4185384695, 'lastId': 4191952605, 'count': 6567911}\n"
     ]
    }
   ],
   "source": [
    "import requests\n",
    "import pandas as pd\n",
    "\n",
    "api_address = \"https://api.binance.com/api/v3/ticker/24hr?symbol=BTCUSDT\"\n",
    "response = requests.get(api_address)\n",
    "\n",
    "\n",
    "if response.status_code == 200:\n",
    "    my_data = response.json()\n",
    "\n",
    "my_data_frame = pd.DataFrame([my_data])\n",
    "\n",
    "print(my_data)"
   ]
  },
  {
   "cell_type": "code",
   "execution_count": 4,
   "id": "fbc749d6-044c-400f-a3b9-49156923cc18",
   "metadata": {},
   "outputs": [
    {
     "data": {
      "text/plain": [
       "Index(['symbol', 'priceChange', 'priceChangePercent', 'weightedAvgPrice',\n",
       "       'prevClosePrice', 'lastPrice', 'lastQty', 'bidPrice', 'bidQty',\n",
       "       'askPrice', 'askQty', 'openPrice', 'highPrice', 'lowPrice', 'volume',\n",
       "       'quoteVolume', 'openTime', 'closeTime', 'firstId', 'lastId', 'count'],\n",
       "      dtype='object')"
      ]
     },
     "execution_count": 4,
     "metadata": {},
     "output_type": "execute_result"
    }
   ],
   "source": [
    "my_data_frame.columns"
   ]
  },
  {
   "cell_type": "code",
   "execution_count": 5,
   "id": "cfd888bf-d250-438d-b53e-b4735a8ad082",
   "metadata": {},
   "outputs": [
    {
     "data": {
      "text/plain": [
       "RangeIndex(start=0, stop=1, step=1)"
      ]
     },
     "execution_count": 5,
     "metadata": {},
     "output_type": "execute_result"
    }
   ],
   "source": [
    "my_data_frame.index"
   ]
  },
  {
   "cell_type": "code",
   "execution_count": 6,
   "id": "63b53217-764d-4ea3-aa0e-977efd009595",
   "metadata": {},
   "outputs": [
    {
     "data": {
      "text/html": [
       "<div>\n",
       "<style scoped>\n",
       "    .dataframe tbody tr th:only-of-type {\n",
       "        vertical-align: middle;\n",
       "    }\n",
       "\n",
       "    .dataframe tbody tr th {\n",
       "        vertical-align: top;\n",
       "    }\n",
       "\n",
       "    .dataframe thead th {\n",
       "        text-align: right;\n",
       "    }\n",
       "</style>\n",
       "<table border=\"1\" class=\"dataframe\">\n",
       "  <thead>\n",
       "    <tr style=\"text-align: right;\">\n",
       "      <th></th>\n",
       "      <th>volume</th>\n",
       "      <th>prevClosePrice</th>\n",
       "      <th>closeTime</th>\n",
       "    </tr>\n",
       "  </thead>\n",
       "  <tbody>\n",
       "    <tr>\n",
       "      <th>0</th>\n",
       "      <td>34806.33660000</td>\n",
       "      <td>95894.49000000</td>\n",
       "      <td>1733211122965</td>\n",
       "    </tr>\n",
       "  </tbody>\n",
       "</table>\n",
       "</div>"
      ],
      "text/plain": [
       "           volume  prevClosePrice      closeTime\n",
       "0  34806.33660000  95894.49000000  1733211122965"
      ]
     },
     "execution_count": 6,
     "metadata": {},
     "output_type": "execute_result"
    }
   ],
   "source": [
    "my_data_frame[[\"volume\",\"prevClosePrice\",\"closeTime\"]]"
   ]
  },
  {
   "cell_type": "code",
   "execution_count": null,
   "id": "03bfb0d0-7a53-43d0-ba34-ed0a91290107",
   "metadata": {},
   "outputs": [],
   "source": []
  }
 ],
 "metadata": {
  "kernelspec": {
   "display_name": "Python 3 (ipykernel)",
   "language": "python",
   "name": "python3"
  },
  "language_info": {
   "codemirror_mode": {
    "name": "ipython",
    "version": 3
   },
   "file_extension": ".py",
   "mimetype": "text/x-python",
   "name": "python",
   "nbconvert_exporter": "python",
   "pygments_lexer": "ipython3",
   "version": "3.12.0"
  }
 },
 "nbformat": 4,
 "nbformat_minor": 5
}
